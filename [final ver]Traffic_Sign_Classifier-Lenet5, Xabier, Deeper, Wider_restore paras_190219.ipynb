{
 "cells": [
  {
   "cell_type": "markdown",
   "metadata": {},
   "source": [
    "# Self-Driving Car Engineer Nanodegree\n",
    "\n",
    "## Deep Learning\n",
    "\n",
    "## Project: Build a Traffic Sign Recognition Classifier\n",
    "\n",
    "In this notebook, a template is provided for you to implement your functionality in stages, which is required to successfully complete this project. If additional code is required that cannot be included in the notebook, be sure that the Python code is successfully imported and included in your submission if necessary. \n",
    "\n",
    "> **Note**: Once you have completed all of the code implementations, you need to finalize your work by exporting the iPython Notebook as an HTML document. Before exporting the notebook to html, all of the code cells need to have been run so that reviewers can see the final implementation and output. You can then export the notebook by using the menu above and navigating to  \\n\",\n",
    "    \"**File -> Download as -> HTML (.html)**. Include the finished document along with this notebook as your submission. \n",
    "\n",
    "In addition to implementing code, there is a writeup to complete. The writeup should be completed in a separate file, which can be either a markdown file or a pdf document. There is a [write up template](https://github.com/udacity/CarND-Traffic-Sign-Classifier-Project/blob/master/writeup_template.md) that can be used to guide the writing process. Completing the code template and writeup template will cover all of the [rubric points](https://review.udacity.com/#!/rubrics/481/view) for this project.\n",
    "\n",
    "The [rubric](https://review.udacity.com/#!/rubrics/481/view) contains \"Stand Out Suggestions\" for enhancing the project beyond the minimum requirements. The stand out suggestions are optional. If you decide to pursue the \"stand out suggestions\", you can include the code in this Ipython notebook and also discuss the results in the writeup file.\n",
    "\n",
    "\n",
    ">**Note:** Code and Markdown cells can be executed using the **Shift + Enter** keyboard shortcut. In addition, Markdown cells can be edited by typically double-clicking the cell to enter edit mode."
   ]
  },
  {
   "cell_type": "markdown",
   "metadata": {},
   "source": [
    "---\n",
    "## Step 0: Load The Data"
   ]
  },
  {
   "cell_type": "code",
   "execution_count": 1,
   "metadata": {},
   "outputs": [],
   "source": [
    "# Load pickled data\n",
    "import pickle\n",
    "\n",
    "# TODO: Fill this in based on where you saved the training and testing data\n",
    "\n",
    "training_file = '../data/train.p'\n",
    "validation_file= '../data/valid.p'\n",
    "testing_file = '../data/test.p'\n",
    "\n",
    "with open(training_file, mode='rb') as f:\n",
    "    train = pickle.load(f)\n",
    "with open(validation_file, mode='rb') as f:\n",
    "    valid = pickle.load(f)\n",
    "with open(testing_file, mode='rb') as f:\n",
    "    test = pickle.load(f)\n",
    "    \n",
    "X_train, y_train = train['features'], train['labels']\n",
    "X_valid, y_valid = valid['features'], valid['labels']\n",
    "X_test, y_test = test['features'], test['labels']"
   ]
  },
  {
   "cell_type": "markdown",
   "metadata": {},
   "source": [
    "---\n",
    "\n",
    "## Step 1: Dataset Summary & Exploration\n",
    "\n",
    "The pickled data is a dictionary with 4 key/value pairs:\n",
    "\n",
    "- `'features'` is a 4D array containing raw pixel data of the traffic sign images, (num examples, width, height, channels).\n",
    "- `'labels'` is a 1D array containing the label/class id of the traffic sign. The file `signnames.csv` contains id -> name mappings for each id.\n",
    "- `'sizes'` is a list containing tuples, (width, height) representing the original width and height the image.\n",
    "- `'coords'` is a list containing tuples, (x1, y1, x2, y2) representing coordinates of a bounding box around the sign in the image. **THESE COORDINATES ASSUME THE ORIGINAL IMAGE. THE PICKLED DATA CONTAINS RESIZED VERSIONS (32 by 32) OF THESE IMAGES**\n",
    "\n",
    "Complete the basic data summary below. Use python, numpy and/or pandas methods to calculate the data summary rather than hard coding the results. For example, the [pandas shape method](http://pandas.pydata.org/pandas-docs/stable/generated/pandas.DataFrame.shape.html) might be useful for calculating some of the summary results. "
   ]
  },
  {
   "cell_type": "markdown",
   "metadata": {},
   "source": [
    "### Provide a Basic Summary of the Data Set Using Python, Numpy and/or Pandas"
   ]
  },
  {
   "cell_type": "code",
   "execution_count": 3,
   "metadata": {},
   "outputs": [
    {
     "name": "stdout",
     "output_type": "stream",
     "text": [
      "Number of training examples = 34799\n",
      "Number of testing examples = 12630\n",
      "Number of validation examples = 4410\n",
      "Image data shape = (32, 32, 3)\n",
      "Number of classes = 43\n"
     ]
    }
   ],
   "source": [
    "### Replace each question mark with the appropriate value. \n",
    "### Use python, pandas or numpy methods rather than hard coding the results\n",
    "\n",
    "# TODO: Number of training examples\n",
    "n_train = len(X_train)\n",
    "\n",
    "# TODO: Number of validation examples\n",
    "n_validation = len(X_valid)\n",
    "\n",
    "# TODO: Number of testing examples.\n",
    "n_test = len(X_test)\n",
    "\n",
    "# TODO: What's the shape of an traffic sign image?\n",
    "image_shape = X_train[0].shape\n",
    "\n",
    "# print(X_train[30].squeeze())\n",
    "\n",
    "# TODO: How many unique classes/labels there are in the dataset.\n",
    "n_classes = max(y_train)+1\n",
    "\n",
    "print(\"Number of training examples =\", n_train)\n",
    "print(\"Number of testing examples =\", n_test)\n",
    "print(\"Number of validation examples =\", n_validation)\n",
    "print(\"Image data shape =\", image_shape)\n",
    "print(\"Number of classes =\", n_classes)\n"
   ]
  },
  {
   "cell_type": "markdown",
   "metadata": {},
   "source": [
    "### Include an exploratory visualization of the dataset"
   ]
  },
  {
   "cell_type": "markdown",
   "metadata": {},
   "source": [
    "Visualize the German Traffic Signs Dataset using the pickled file(s). This is open ended, suggestions include: plotting traffic sign images, plotting the count of each sign, etc. \n",
    "\n",
    "The [Matplotlib](http://matplotlib.org/) [examples](http://matplotlib.org/examples/index.html) and [gallery](http://matplotlib.org/gallery.html) pages are a great resource for doing visualizations in Python.\n",
    "\n",
    "**NOTE:** It's recommended you start with something simple first. If you wish to do more, come back to it after you've completed the rest of the sections. It can be interesting to look at the distribution of classes in the training, validation and test set. Is the distribution the same? Are there more examples of some classes than others?"
   ]
  },
  {
   "cell_type": "code",
   "execution_count": 3,
   "metadata": {},
   "outputs": [
    {
     "name": "stdout",
     "output_type": "stream",
     "text": [
      "2\n"
     ]
    },
    {
     "data": {
      "image/png": "[encoded data removed]",
      "text/plain": [
       "<matplotlib.figure.Figure at 0x7fb5a1373e10>"
      ]
     },
     "metadata": {
      "needs_background": "light"
     },
     "output_type": "display_data"
    }
   ],
   "source": [
    "### Data exploration visualization code goes here.\n",
    "### Feel free to use as many code cells as needed.\n",
    "import matplotlib.pyplot as plt\n",
    "# Visualizations will be shown in the notebook.\n",
    "%matplotlib inline\n",
    "\n",
    "import random\n",
    "import numpy as np\n",
    "\n",
    "index = random.randint(0, n_train)\n",
    "image = X_train[index].squeeze()\n",
    "\n",
    "plt.imshow(X_train[60])\n",
    "#plt.imshow(image)\n",
    "print(y_train[index])"
   ]
  },
  {
   "cell_type": "markdown",
   "metadata": {},
   "source": [
    "----\n",
    "\n",
    "## Step 2: Design and Test a Model Architecture\n",
    "\n",
    "Design and implement a deep learning model that learns to recognize traffic signs. Train and test your model on the [German Traffic Sign Dataset](http://benchmark.ini.rub.de/?section=gtsrb&subsection=dataset).\n",
    "\n",
    "The LeNet-5 implementation shown in the [classroom](https://classroom.udacity.com/nanodegrees/nd013/parts/fbf77062-5703-404e-b60c-95b78b2f3f9e/modules/6df7ae49-c61c-4bb2-a23e-6527e69209ec/lessons/601ae704-1035-4287-8b11-e2c2716217ad/concepts/d4aca031-508f-4e0b-b493-e7b706120f81) at the end of the CNN lesson is a solid starting point. You'll have to change the number of classes and possibly the preprocessing, but aside from that it's plug and play! \n",
    "\n",
    "With the LeNet-5 solution from the lecture, you should expect a validation set accuracy of about 0.89. To meet specifications, the validation set accuracy will need to be at least 0.93. It is possible to get an even higher accuracy, but 0.93 is the minimum for a successful project submission. \n",
    "\n",
    "There are various aspects to consider when thinking about this problem:\n",
    "\n",
    "- Neural network architecture (is the network over or underfitting?)\n",
    "- Play around preprocessing techniques (normalization, rgb to grayscale, etc)\n",
    "- Number of examples per label (some have more than others).\n",
    "- Generate fake data.\n",
    "\n",
    "Here is an example of a [published baseline model on this problem](http://yann.lecun.com/exdb/publis/pdf/sermanet-ijcnn-11.pdf). It's not required to be familiar with the approach used in the paper but, it's good practice to try to read papers like these."
   ]
  },
  {
   "cell_type": "markdown",
   "metadata": {},
   "source": [
    "### Pre-process the Data Set (normalization, grayscale, etc.)"
   ]
  },
  {
   "cell_type": "markdown",
   "metadata": {},
   "source": [
    "Minimally, the image data should be normalized so that the data has mean zero and equal variance. For image data, `(pixel - 128)/ 128` is a quick way to approximately normalize the data and can be used in this project. \n",
    "\n",
    "Other pre-processing steps are optional. You can try different techniques to see if it improves performance. \n",
    "\n",
    "Use the code cell (or multiple code cells, if necessary) to implement the first step of your project."
   ]
  },
  {
   "cell_type": "code",
   "execution_count": 4,
   "metadata": {},
   "outputs": [],
   "source": [
    "### Preprocess the data here. It is required to normalize the data. Other preprocessing steps could include \n",
    "### converting to grayscale, etc.\n",
    "### Feel free to use as many code cells as needed.\n",
    "\n",
    "from sklearn.utils import shuffle\n",
    "\n",
    "X_train, y_train = shuffle(X_train, y_train)"
   ]
  },
  {
   "cell_type": "markdown",
   "metadata": {},
   "source": [
    "### Model Architecture"
   ]
  },
  {
   "cell_type": "code",
   "execution_count": 5,
   "metadata": {},
   "outputs": [],
   "source": [
    "### Define your architecture here.\n",
    "### Feel free to use as many code cells as needed.\n",
    "\n",
    "from tensorflow.contrib.layers import flatten\n",
    "\n",
    "def LeNet(x):\n",
    "    # Hyperparameters\n",
    "    mu = 0\n",
    "    sig = 0.1\n",
    "    \n",
    "    #solution : layer1 : convolutional  input = 32x32x3, filter = 5x5x3x20, output = 28x28x20\n",
    "    conv1_W = tf.Variable(tf.truncated_normal(shape = (5,5,3,20), mean = mu, stddev = sig), name = 'conv1_W')\n",
    "    \n",
    "    #Apply xavier initializer\n",
    "    conv1_W = tf.get_variable(\"conv1_W\", shape = (5,5,3,20), initializer = tf.contrib.layers.xavier_initializer())\n",
    "    \n",
    "    conv1_b = tf.Variable(tf.zeros(20), name = 'conv1_b')\n",
    "    conv1 = tf.nn.conv2d(x, conv1_W, strides = [1,1,1,1], padding = 'VALID') + conv1_b\n",
    "    \n",
    "    #solution : Activation by Relu\n",
    "    conv1 = tf.nn.relu(conv1)\n",
    "    \n",
    "    #Apply Drop out\n",
    "    #conv1 = tf.nn.dropout(conv1, keep_prob = keep_prob_train)\n",
    "    \n",
    "    #solution : sub sampling by MAX POOLING   input = 28x28x20, kernel = 2x2, output = 14x14x20\n",
    "    conv1 = tf.nn.max_pool(conv1, ksize = [1,2,2,1], strides = [1,2,2,1], padding = 'VALID')\n",
    "    \n",
    "    #solution : Layer2 : convolutional  input = 14x14x20, filter = 5x5x20x50, output = 10x10x50\n",
    "    conv2_W = tf.Variable(tf.truncated_normal(shape = (5,5,20,50), mean = mu, stddev = sig), name = 'conv2_W')\n",
    "    \n",
    "    #Apply xavier initializer\n",
    "    conv2_W = tf.get_variable(\"conv2_W\", shape = (5,5,20,50), initializer = tf.contrib.layers.xavier_initializer())\n",
    "    \n",
    "    conv2_b = tf.Variable(tf.zeros(50), name = 'conv2_b')\n",
    "    conv2 = tf.nn.conv2d(conv1, conv2_W, strides = [1,1,1,1], padding = 'VALID') + conv2_b\n",
    "    \n",
    "    #solution : Acitvation by Relu\n",
    "    \n",
    "    conv2 = tf.nn.relu(conv2)\n",
    "    \n",
    "    #Apply Drop out\n",
    "    #conv2 = tf.nn.dropout(conv2, keep_prob = keep_prob_train)\n",
    "    \n",
    "    #solution : sub sampling by MAX POOLING  input = 10x10x50, kernel = 2x2, output = 5x5x50\n",
    "    conv2 = tf.nn.max_pool(conv2, ksize = [1,2,2,1], strides = [1,2,2,1], padding = 'VALID')\n",
    "    \n",
    "    #solution : flatten  input = 5x5x50, output = 1x1250\n",
    "    fc0 = flatten(conv2)\n",
    "    \n",
    "    #solution : Layer3 : Fully Connected  input = 1x1250, Weight = 1250x200, output = 1x200\n",
    "    fc1_W = tf.Variable(tf.truncated_normal(shape = (1250,200), mean = mu, stddev = sig), name = 'fc1_W')\n",
    "    \n",
    "    #Apply xavier initializer\n",
    "    fc1_W = tf.get_variable(\"fc1_W\", shape = (1250,200), initializer = tf.contrib.layers.xavier_initializer())\n",
    "    \n",
    "    fc1_b = tf.Variable(tf.zeros(200), name = 'fc1_b')\n",
    "    fc1 = tf.matmul(fc0, fc1_W) + fc1_b\n",
    "    \n",
    "    #solution : Activation by Relu\n",
    "    fc1 = tf.nn.relu(fc1)\n",
    "    \n",
    "    #Apply Drop out\n",
    "    #fc1 = tf.nn.dropout(fc1, keep_prob = 0.7)    \n",
    "    \n",
    "    #solution : Layer4 : Fully Connected  input = 1x200, weight = 200x100, output = 1x100\n",
    "    fc2_W = tf.Variable(tf.truncated_normal(shape = (200,100), mean = mu, stddev = sig), name = 'fc2_W')\n",
    "    \n",
    "    #Apply xavier initializer\n",
    "    fc2_W = tf.get_variable(\"fc2_W\", shape = (200,100), initializer = tf.contrib.layers.xavier_initializer())\n",
    "    \n",
    "    fc2_b = tf.Variable(tf.zeros(100), name = 'fc2_b')\n",
    "    fc2 = tf.matmul(fc1, fc2_W) + fc2_b\n",
    "    \n",
    "    #solution : Activation by Relu\n",
    "    fc2 = tf.nn.relu(fc2)\n",
    "    \n",
    "    #Apply Drop out\n",
    "    #fc2 = tf.nn.dropout(fc2, keep_prob = 0.7) \n",
    "    \n",
    "    #solution : Layer5 : Fully Connected  input = 1x100, weight = 100x43, output = 1x43\n",
    "    fc3_W = tf.Variable(tf.truncated_normal(shape = (100,43), mean = mu, stddev = sig), name = 'fc3_W')\n",
    "    \n",
    "    #Apply xavier initializer\n",
    "    fc3_W = tf.get_variable(\"fc3_W\", shape = (100,43), initializer = tf.contrib.layers.xavier_initializer())\n",
    "    \n",
    "    fc3_b = tf.Variable(tf.zeros(43), name = 'fc3_b')\n",
    "    fc3 = tf.matmul(fc2, fc3_W) + fc3_b\n",
    "    \n",
    "    logits = fc3\n",
    "    \n",
    "    return logits"
   ]
  },
  {
   "cell_type": "code",
   "execution_count": 6,
   "metadata": {},
   "outputs": [],
   "source": [
    "def LeNet_test(x):\n",
    "    conv1 = tf.nn.conv2d(x, conv1_W, strides = [1,1,1,1], padding = 'VALID') + conv1_b\n",
    "    conv1 = tf.nn.relu(conv1)\n",
    "    conv1 = tf.nn.max_pool(conv1, ksize = [1,2,2,1], strides = [1,2,2,1], padding = 'VALID')\n",
    "    \n",
    "    conv2 = tf.nn.conv2d(conv1, conv2_W, strides = [1,1,1,1], padding = 'VALID') + conv2_b\n",
    "    conv2 = tf.nn.relu(conv2)\n",
    "    conv2 = tf.nn.max_pool(conv2, ksize = [1,2,2,1], strides = [1,2,2,1], padding = 'VALID')\n",
    "    \n",
    "    fc0 = flatten(conv2)\n",
    "    \n",
    "    fc1 = tf.matmul(fc0, fc1_W) + fc1_b\n",
    "    fc1 = tf.nn.relu(fc1)\n",
    "    \n",
    "    fc2 = tf.matmul(fc1, fc2_W) + fc2_b\n",
    "    fc2 = tf.nn.relu(fc2)\n",
    "    \n",
    "    fc3 = tf.matmul(fc2, fc3_W) + fc3_b\n",
    "    \n",
    "    logits = fc3\n",
    "    \n",
    "    return logits"
   ]
  },
  {
   "cell_type": "markdown",
   "metadata": {},
   "source": [
    "### Train, Validate and Test the Model"
   ]
  },
  {
   "cell_type": "markdown",
   "metadata": {},
   "source": [
    "A validation set can be used to assess how well the model is performing. A low accuracy on the training and validation\n",
    "sets imply underfitting. A high accuracy on the training set but low accuracy on the validation set implies overfitting."
   ]
  },
  {
   "cell_type": "code",
   "execution_count": 1,
   "metadata": {},
   "outputs": [],
   "source": [
    "### Train your model here.\n",
    "### Calculate and report the accuracy on the training and validation set.\n",
    "### Once a final model architecture is selected, \n",
    "### the accuracy on the test set should be calculated and reported as well.\n",
    "### Feel free to use as many code cells as needed."
   ]
  },
  {
   "cell_type": "code",
   "execution_count": 7,
   "metadata": {},
   "outputs": [],
   "source": [
    "import tensorflow as tf\n",
    "from tensorflow.contrib.layers import flatten\n",
    "x = tf.placeholder(tf.float32, (None, 32,32,3))\n",
    "y = tf.placeholder(tf.int32, (None))\n",
    "one_hot_y = tf.one_hot(y, 43)"
   ]
  },
  {
   "cell_type": "markdown",
   "metadata": {},
   "source": [
    "### Define Training Data"
   ]
  },
  {
   "cell_type": "code",
   "execution_count": 9,
   "metadata": {},
   "outputs": [],
   "source": [
    "rate = 0.001\n",
    "\n",
    "logits = LeNet(x)\n",
    "cross_entropy = tf.nn.softmax_cross_entropy_with_logits(labels = one_hot_y, logits = logits)\n",
    "loss_operation = tf.reduce_mean(cross_entropy)\n",
    "optimizer = tf.train.AdamOptimizer(learning_rate = rate)\n",
    "training_operation = optimizer.minimize(loss_operation)\n"
   ]
  },
  {
   "cell_type": "markdown",
   "metadata": {},
   "source": [
    "### Define Model Evaluation"
   ]
  },
  {
   "cell_type": "code",
   "execution_count": 10,
   "metadata": {},
   "outputs": [],
   "source": [
    "correct_prediction = tf.equal(tf.argmax(logits, 1), tf.argmax(one_hot_y, 1))\n",
    "accuracy_operation = tf.reduce_mean(tf.cast(correct_prediction, tf.float32))\n",
    "\n",
    "def evaluate(X_data, y_data):\n",
    "    num_examples = len(X_data)\n",
    "    total_accuracy = 0\n",
    "    sess = tf.get_default_session()\n",
    "    for offset in range(0, num_examples, BATCH_SIZE):\n",
    "        batch_x, batch_y = X_data[offset:offset + BATCH_SIZE], y_data[offset:offset + BATCH_SIZE]\n",
    "        accuracy = sess.run(accuracy_operation, feed_dict = {x:batch_x, y:batch_y})\n",
    "        total_accuracy += (accuracy * len(batch_x))\n",
    "        \n",
    "    return total_accuracy / num_examples"
   ]
  },
  {
   "cell_type": "markdown",
   "metadata": {},
   "source": [
    "### Train the model"
   ]
  },
  {
   "cell_type": "code",
   "execution_count": 13,
   "metadata": {},
   "outputs": [],
   "source": [
    "EPOCHS = 12\n",
    "BATCH_SIZE = 128"
   ]
  },
  {
   "cell_type": "code",
   "execution_count": 14,
   "metadata": {},
   "outputs": [
    {
     "name": "stdout",
     "output_type": "stream",
     "text": [
      "Training....\n",
      "\n",
      "EPOCH : 1\n",
      "Validation accuracy = 0.865\n",
      "\n",
      "EPOCH : 2\n",
      "Validation accuracy = 0.907\n",
      "\n",
      "EPOCH : 3\n",
      "Validation accuracy = 0.893\n",
      "\n",
      "EPOCH : 4\n",
      "Validation accuracy = 0.928\n",
      "\n",
      "EPOCH : 5\n",
      "Validation accuracy = 0.928\n",
      "\n",
      "EPOCH : 6\n",
      "Validation accuracy = 0.908\n",
      "\n",
      "EPOCH : 7\n",
      "Validation accuracy = 0.945\n",
      "\n",
      "EPOCH : 8\n",
      "Validation accuracy = 0.891\n",
      "\n",
      "EPOCH : 9\n",
      "Validation accuracy = 0.921\n",
      "\n",
      "EPOCH : 10\n",
      "Validation accuracy = 0.932\n",
      "\n",
      "EPOCH : 11\n",
      "Validation accuracy = 0.933\n",
      "\n",
      "EPOCH : 12\n",
      "Validation accuracy = 0.949\n",
      "\n",
      "Value saved\n"
     ]
    }
   ],
   "source": [
    "with tf.Session() as sess:\n",
    "    sess.run(tf.global_variables_initializer())\n",
    "    num_examples = len(X_train)\n",
    "    \n",
    "    print(\"Training....\")\n",
    "    print()\n",
    "    for i in range(EPOCHS):\n",
    "        X_train, y_train = shuffle(X_train, y_train)\n",
    "        for offset in range(0, num_examples, BATCH_SIZE):\n",
    "            end = offset + BATCH_SIZE\n",
    "            batch_x, batch_y = X_train[offset:end], y_train[offset:end]\n",
    "            sess.run(training_operation, feed_dict={x:batch_x, y:batch_y})\n",
    "        validation_accuracy = evaluate(X_valid,y_valid)\n",
    "        print(\"EPOCH : {}\".format(i+1))\n",
    "        print(\"Validation accuracy = {:.3f}\".format(validation_accuracy))\n",
    "        print()\n",
    "\n",
    "    saver = tf.train.Saver()\n",
    "    saver.save(sess, 'lenet.ckpt')\n",
    "    print(\"Value saved\")"
   ]
  },
  {
   "cell_type": "markdown",
   "metadata": {},
   "source": [
    "### Validate accuracy on test data"
   ]
  },
  {
   "cell_type": "code",
   "execution_count": 15,
   "metadata": {},
   "outputs": [
    {
     "name": "stdout",
     "output_type": "stream",
     "text": [
      "INFO:tensorflow:Restoring parameters from ./lenet.ckpt\n",
      "Test Accuracy = 0.926\n"
     ]
    }
   ],
   "source": [
    "with tf.Session() as sess:\n",
    "    sess.run(tf.global_variables_initializer())\n",
    "    loader = tf.train.import_meta_graph('lenet.ckpt.meta')\n",
    "    loader.restore(sess, tf.train.latest_checkpoint('./'))\n",
    "    test_accuracy = evaluate(X_test, y_test)\n",
    "    print(\"Test Accuracy = {:.3f}\".format(test_accuracy))"
   ]
  },
  {
   "cell_type": "code",
   "execution_count": null,
   "metadata": {},
   "outputs": [],
   "source": [
    "from PIL import Image\n",
    "import numpy as np\n",
    "import matplotlib.pyplot as plt\n",
    "\n",
    "new_1 = 'resized_traffic_sign_1.png'\n",
    "new_1 = Image.open(new_1)\n",
    "\n",
    "new_2 = 'resized_traffic_sign_2.png'\n",
    "new_2 = Image.open(new_2)\n",
    "\n",
    "new_3 = 'resized_traffic_sign_3.png'\n",
    "new_3 = Image.open(new_3)\n",
    "\n",
    "new_4 = 'resized_traffic_sign_4.png'\n",
    "new_4 = Image.open(new_4)\n",
    "\n",
    "new_5 = 'resized_traffic_sign_5.png'\n",
    "new_5 = Image.open(new_5)\n",
    "\n",
    "image = []\n",
    "\n",
    "#image = np.array(new_1, dtype = np.float32)\n",
    "#image = image[np.newaxis]\n",
    "\n",
    "im_1 = np.array(new_1, dtype = np.float32)\n",
    "im_2 = np.array(new_2, dtype = np.float32)\n",
    "im_3 = np.array(new_3, dtype = np.float32)\n",
    "im_4 = np.array(new_4, dtype = np.float32)\n",
    "im_5 = np.array(new_5, dtype = np.float32)\n",
    "\n",
    "image.append(im_1)\n",
    "image.append(im_2)\n",
    "image.append(im_3)\n",
    "image.append(im_4)\n",
    "image.append(im_5)"
   ]
  },
  {
   "cell_type": "code",
   "execution_count": 17,
   "metadata": {},
   "outputs": [
    {
     "name": "stdout",
     "output_type": "stream",
     "text": [
      "INFO:tensorflow:Restoring parameters from lenet.ckpt\n",
      "Model restored.\n",
      "Y value for image 1 : [24]\n",
      "Y value for image 2 : [42]\n",
      "Y value for image 3 : [17]\n",
      "Y value for image 4 : [17]\n",
      "Y value for image 5 : [32]\n",
      "TopKV2(values=array([[  9.98950839e-01,   1.04917272e-03,   9.42238146e-36,\n",
      "          0.00000000e+00,   0.00000000e+00],\n",
      "       [  9.99996781e-01,   3.21491916e-06,   6.02301844e-18,\n",
      "          2.93636573e-36,   0.00000000e+00],\n",
      "       [  1.00000000e+00,   0.00000000e+00,   0.00000000e+00,\n",
      "          0.00000000e+00,   0.00000000e+00],\n",
      "       [  1.00000000e+00,   2.19191096e-32,   0.00000000e+00,\n",
      "          0.00000000e+00,   0.00000000e+00],\n",
      "       [  9.99976397e-01,   2.35612442e-05,   3.92698083e-20,\n",
      "          3.48777783e-34,   2.27899434e-36]], dtype=float32), indices=array([[24, 17, 10,  0,  1],\n",
      "       [42, 17, 10, 34,  0],\n",
      "       [17,  0,  1,  2,  3],\n",
      "       [17, 10,  0,  1,  2],\n",
      "       [32, 34, 24, 17, 10]], dtype=int32))\n"
     ]
    }
   ],
   "source": [
    "tf.reset_default_graph()\n",
    "\n",
    "conv1_W = tf.get_variable('conv1_W', shape = (5,5,3,20))\n",
    "conv1_b = tf.get_variable('conv1_b', shape = (20))\n",
    "conv2_W = tf.get_variable('conv2_W', shape = (5,5,20,50))\n",
    "conv2_b = tf.get_variable('conv2_b', shape = (50))\n",
    "fc1_W = tf.get_variable('fc1_W', shape = (1250,200))\n",
    "fc1_b = tf.get_variable('fc1_b',shape = (200))\n",
    "fc2_W = tf.get_variable('fc2_W',shape = (200,100))\n",
    "fc2_b = tf.get_variable('fc2_b',shape = (100))\n",
    "fc3_W = tf.get_variable('fc3_W',shape = (100,43))\n",
    "fc3_b = tf.get_variable('fc3_b',shape = (43))\n",
    "\n",
    "saver = tf.train.Saver()\n",
    "\n",
    "with tf.Session() as sess:\n",
    "    # Restore variables from disk.\n",
    "    saver.restore(sess, \"lenet.ckpt\")\n",
    "    print(\"Model restored.\")\n",
    "\n",
    "    \n",
    "    softmax_new_images = []\n",
    "    \n",
    "    for i in range(5):\n",
    "        image_final = [tf.cast(image[i], tf.float32)]\n",
    "        test_index = LeNet_test(image_final)\n",
    "        logits = sess.run(test_index)\n",
    "        index_test = tf.argmax(logits, 1)\n",
    "        softmax_new_images.append(sess.run(tf.nn.softmax(logits)))\n",
    "        print(\"Y value for image\", i+1, \":\", sess.run(index_test))\n",
    "    \n",
    "    print(sess.run(tf.nn.top_k(tf.constant(np.squeeze(softmax_new_images)), k=5)))\n"
   ]
  },
  {
   "cell_type": "code",
   "execution_count": null,
   "metadata": {},
   "outputs": [],
   "source": [
    "## calculate accuracy\n",
    "# only 1 (new_3) was correct\n",
    "# It is 20% accuracy"
   ]
  }
 ],
 "metadata": {
  "anaconda-cloud": {},
  "kernelspec": {
   "display_name": "Python 3",
   "language": "python",
   "name": "python3"
  },
  "language_info": {
   "codemirror_mode": {
    "name": "ipython",
    "version": 3
   },
   "file_extension": ".py",
   "mimetype": "text/x-python",
   "name": "python",
   "nbconvert_exporter": "python",
   "pygments_lexer": "ipython3",
   "version": "3.6.3"
  }
 },
 "nbformat": 4,
 "nbformat_minor": 1
}
